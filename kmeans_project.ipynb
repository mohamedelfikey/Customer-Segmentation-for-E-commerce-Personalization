{
 "cells": [
  {
   "cell_type": "markdown",
   "id": "6e7df27f",
   "metadata": {},
   "source": [
    "### 1- import libraries and read data"
   ]
  },
  {
   "cell_type": "code",
   "execution_count": 2,
   "id": "1e073141",
   "metadata": {},
   "outputs": [],
   "source": [
    "import numpy as np\n",
    "import pandas as pd\n",
    "import matplotlib.pyplot as plt\n",
    "import seaborn as sns"
   ]
  },
  {
   "cell_type": "code",
   "execution_count": 3,
   "id": "169b3739",
   "metadata": {},
   "outputs": [],
   "source": [
    "df = pd.read_excel('Online_Retail.xlsx')"
   ]
  },
  {
   "cell_type": "code",
   "execution_count": 4,
   "id": "c72c1680",
   "metadata": {},
   "outputs": [
    {
     "data": {
      "text/html": [
       "<div>\n",
       "<style scoped>\n",
       "    .dataframe tbody tr th:only-of-type {\n",
       "        vertical-align: middle;\n",
       "    }\n",
       "\n",
       "    .dataframe tbody tr th {\n",
       "        vertical-align: top;\n",
       "    }\n",
       "\n",
       "    .dataframe thead th {\n",
       "        text-align: right;\n",
       "    }\n",
       "</style>\n",
       "<table border=\"1\" class=\"dataframe\">\n",
       "  <thead>\n",
       "    <tr style=\"text-align: right;\">\n",
       "      <th></th>\n",
       "      <th>InvoiceNo</th>\n",
       "      <th>StockCode</th>\n",
       "      <th>Description</th>\n",
       "      <th>Quantity</th>\n",
       "      <th>InvoiceDate</th>\n",
       "      <th>UnitPrice</th>\n",
       "      <th>CustomerID</th>\n",
       "      <th>Country</th>\n",
       "    </tr>\n",
       "  </thead>\n",
       "  <tbody>\n",
       "    <tr>\n",
       "      <th>0</th>\n",
       "      <td>536365</td>\n",
       "      <td>85123A</td>\n",
       "      <td>WHITE HANGING HEART T-LIGHT HOLDER</td>\n",
       "      <td>6</td>\n",
       "      <td>2010-12-01 08:26:00</td>\n",
       "      <td>2.55</td>\n",
       "      <td>17850.0</td>\n",
       "      <td>United Kingdom</td>\n",
       "    </tr>\n",
       "    <tr>\n",
       "      <th>1</th>\n",
       "      <td>536365</td>\n",
       "      <td>71053</td>\n",
       "      <td>WHITE METAL LANTERN</td>\n",
       "      <td>6</td>\n",
       "      <td>2010-12-01 08:26:00</td>\n",
       "      <td>3.39</td>\n",
       "      <td>17850.0</td>\n",
       "      <td>United Kingdom</td>\n",
       "    </tr>\n",
       "    <tr>\n",
       "      <th>2</th>\n",
       "      <td>536365</td>\n",
       "      <td>84406B</td>\n",
       "      <td>CREAM CUPID HEARTS COAT HANGER</td>\n",
       "      <td>8</td>\n",
       "      <td>2010-12-01 08:26:00</td>\n",
       "      <td>2.75</td>\n",
       "      <td>17850.0</td>\n",
       "      <td>United Kingdom</td>\n",
       "    </tr>\n",
       "    <tr>\n",
       "      <th>3</th>\n",
       "      <td>536365</td>\n",
       "      <td>84029G</td>\n",
       "      <td>KNITTED UNION FLAG HOT WATER BOTTLE</td>\n",
       "      <td>6</td>\n",
       "      <td>2010-12-01 08:26:00</td>\n",
       "      <td>3.39</td>\n",
       "      <td>17850.0</td>\n",
       "      <td>United Kingdom</td>\n",
       "    </tr>\n",
       "    <tr>\n",
       "      <th>4</th>\n",
       "      <td>536365</td>\n",
       "      <td>84029E</td>\n",
       "      <td>RED WOOLLY HOTTIE WHITE HEART.</td>\n",
       "      <td>6</td>\n",
       "      <td>2010-12-01 08:26:00</td>\n",
       "      <td>3.39</td>\n",
       "      <td>17850.0</td>\n",
       "      <td>United Kingdom</td>\n",
       "    </tr>\n",
       "  </tbody>\n",
       "</table>\n",
       "</div>"
      ],
      "text/plain": [
       "  InvoiceNo StockCode                          Description  Quantity  \\\n",
       "0    536365    85123A   WHITE HANGING HEART T-LIGHT HOLDER         6   \n",
       "1    536365     71053                  WHITE METAL LANTERN         6   \n",
       "2    536365    84406B       CREAM CUPID HEARTS COAT HANGER         8   \n",
       "3    536365    84029G  KNITTED UNION FLAG HOT WATER BOTTLE         6   \n",
       "4    536365    84029E       RED WOOLLY HOTTIE WHITE HEART.         6   \n",
       "\n",
       "          InvoiceDate  UnitPrice  CustomerID         Country  \n",
       "0 2010-12-01 08:26:00       2.55     17850.0  United Kingdom  \n",
       "1 2010-12-01 08:26:00       3.39     17850.0  United Kingdom  \n",
       "2 2010-12-01 08:26:00       2.75     17850.0  United Kingdom  \n",
       "3 2010-12-01 08:26:00       3.39     17850.0  United Kingdom  \n",
       "4 2010-12-01 08:26:00       3.39     17850.0  United Kingdom  "
      ]
     },
     "execution_count": 4,
     "metadata": {},
     "output_type": "execute_result"
    }
   ],
   "source": [
    "df.head()"
   ]
  },
  {
   "cell_type": "markdown",
   "id": "9a864f21",
   "metadata": {},
   "source": [
    "### 2- data cleaning and preprocessing"
   ]
  },
  {
   "cell_type": "code",
   "execution_count": 5,
   "id": "20978c54",
   "metadata": {},
   "outputs": [
    {
     "name": "stdout",
     "output_type": "stream",
     "text": [
      "<bound method DataFrame.info of        InvoiceNo StockCode                          Description  Quantity  \\\n",
      "0         536365    85123A   WHITE HANGING HEART T-LIGHT HOLDER         6   \n",
      "1         536365     71053                  WHITE METAL LANTERN         6   \n",
      "2         536365    84406B       CREAM CUPID HEARTS COAT HANGER         8   \n",
      "3         536365    84029G  KNITTED UNION FLAG HOT WATER BOTTLE         6   \n",
      "4         536365    84029E       RED WOOLLY HOTTIE WHITE HEART.         6   \n",
      "...          ...       ...                                  ...       ...   \n",
      "541904    581587     22613          PACK OF 20 SPACEBOY NAPKINS        12   \n",
      "541905    581587     22899         CHILDREN'S APRON DOLLY GIRL          6   \n",
      "541906    581587     23254        CHILDRENS CUTLERY DOLLY GIRL          4   \n",
      "541907    581587     23255      CHILDRENS CUTLERY CIRCUS PARADE         4   \n",
      "541908    581587     22138        BAKING SET 9 PIECE RETROSPOT          3   \n",
      "\n",
      "               InvoiceDate  UnitPrice  CustomerID         Country  \n",
      "0      2010-12-01 08:26:00       2.55     17850.0  United Kingdom  \n",
      "1      2010-12-01 08:26:00       3.39     17850.0  United Kingdom  \n",
      "2      2010-12-01 08:26:00       2.75     17850.0  United Kingdom  \n",
      "3      2010-12-01 08:26:00       3.39     17850.0  United Kingdom  \n",
      "4      2010-12-01 08:26:00       3.39     17850.0  United Kingdom  \n",
      "...                    ...        ...         ...             ...  \n",
      "541904 2011-12-09 12:50:00       0.85     12680.0          France  \n",
      "541905 2011-12-09 12:50:00       2.10     12680.0          France  \n",
      "541906 2011-12-09 12:50:00       4.15     12680.0          France  \n",
      "541907 2011-12-09 12:50:00       4.15     12680.0          France  \n",
      "541908 2011-12-09 12:50:00       4.95     12680.0          France  \n",
      "\n",
      "[541909 rows x 8 columns]>\n",
      "--------------------------------------------------\n",
      "(541909, 8)\n",
      "--------------------------------------------------\n",
      "InvoiceNo           0\n",
      "StockCode           0\n",
      "Description      1454\n",
      "Quantity            0\n",
      "InvoiceDate         0\n",
      "UnitPrice           0\n",
      "CustomerID     135080\n",
      "Country             0\n",
      "dtype: int64\n"
     ]
    }
   ],
   "source": [
    "print (df.info)\n",
    "print(\"--------------------------------------------------\")\n",
    "print (df.shape)\n",
    "print(\"--------------------------------------------------\")\n",
    "print (df.isnull().sum())"
   ]
  },
  {
   "cell_type": "code",
   "execution_count": 6,
   "id": "0e5f051a",
   "metadata": {},
   "outputs": [
    {
     "name": "stdout",
     "output_type": "stream",
     "text": [
      "<class 'pandas.core.frame.DataFrame'>\n",
      "Index: 406829 entries, 0 to 541908\n",
      "Data columns (total 8 columns):\n",
      " #   Column       Non-Null Count   Dtype         \n",
      "---  ------       --------------   -----         \n",
      " 0   InvoiceNo    406829 non-null  object        \n",
      " 1   StockCode    406829 non-null  object        \n",
      " 2   Description  406829 non-null  object        \n",
      " 3   Quantity     406829 non-null  int64         \n",
      " 4   InvoiceDate  406829 non-null  datetime64[ns]\n",
      " 5   UnitPrice    406829 non-null  float64       \n",
      " 6   CustomerID   406829 non-null  float64       \n",
      " 7   Country      406829 non-null  object        \n",
      "dtypes: datetime64[ns](1), float64(2), int64(1), object(4)\n",
      "memory usage: 27.9+ MB\n",
      "None\n",
      "--------------------------------------------------\n",
      "(406829, 8)\n"
     ]
    }
   ],
   "source": [
    "df= df.dropna()\n",
    "print(df.info())\n",
    "print(\"--------------------------------------------------\")\n",
    "print(df.shape) "
   ]
  },
  {
   "cell_type": "code",
   "execution_count": 7,
   "id": "56c2422d",
   "metadata": {},
   "outputs": [],
   "source": [
    "# R (Recency): Number of days since last purchase\n",
    "# F (Frequency): Number of tracsactions\n",
    "# M (Monetary): Total amount of transactions"
   ]
  },
  {
   "cell_type": "code",
   "execution_count": 8,
   "id": "594d0c1a",
   "metadata": {},
   "outputs": [
    {
     "name": "stdout",
     "output_type": "stream",
     "text": [
      "CustomerID\n",
      "12346.0       0.00\n",
      "12347.0    4310.00\n",
      "12348.0    1797.24\n",
      "12349.0    1757.55\n",
      "12350.0     334.40\n",
      "            ...   \n",
      "18280.0     180.60\n",
      "18281.0      80.82\n",
      "18282.0     176.60\n",
      "18283.0    2094.88\n",
      "18287.0    1837.28\n",
      "Name: Amount, Length: 4372, dtype: float64\n"
     ]
    }
   ],
   "source": [
    "df['CustomerID'] = df['CustomerID'].astype(str)\n",
    "df['Amount'] = df['Quantity']*df['UnitPrice']\n",
    "rfm_df_m = df.groupby('CustomerID')['Amount'].sum()\n",
    "rfm_df_m.reset_index()\n",
    "rfm_df_m.columns = ['CustomerID', 'Amount']\n",
    "print(rfm_df_m)"
   ]
  },
  {
   "cell_type": "code",
   "execution_count": 9,
   "id": "334fb18b",
   "metadata": {},
   "outputs": [
    {
     "name": "stdout",
     "output_type": "stream",
     "text": [
      "     CustomerID  Frequency\n",
      "0       12346.0          2\n",
      "1       12347.0        182\n",
      "2       12348.0         31\n",
      "3       12349.0         73\n",
      "4       12350.0         17\n",
      "...         ...        ...\n",
      "4367    18280.0         10\n",
      "4368    18281.0          7\n",
      "4369    18282.0         13\n",
      "4370    18283.0        756\n",
      "4371    18287.0         70\n",
      "\n",
      "[4372 rows x 2 columns]\n"
     ]
    }
   ],
   "source": [
    "rfm_df_f = df.groupby('CustomerID')['InvoiceNo'].count()\n",
    "rfm_df_f = rfm_df_f.reset_index()\n",
    "rfm_df_f.columns = ['CustomerID', 'Frequency']\n",
    "print(rfm_df_f)"
   ]
  },
  {
   "cell_type": "code",
   "execution_count": 10,
   "id": "47f986c4",
   "metadata": {},
   "outputs": [
    {
     "name": "stdout",
     "output_type": "stream",
     "text": [
      "     CustomerID  Diff\n",
      "0       12346.0   325\n",
      "1       12347.0     1\n",
      "2       12348.0    74\n",
      "3       12349.0    18\n",
      "4       12350.0   309\n",
      "...         ...   ...\n",
      "4367    18280.0   277\n",
      "4368    18281.0   180\n",
      "4369    18282.0     7\n",
      "4370    18283.0     3\n",
      "4371    18287.0    42\n",
      "\n",
      "[4372 rows x 2 columns]\n"
     ]
    }
   ],
   "source": [
    "df['InvoiceDate'] = pd.to_datetime(df['InvoiceDate'],format='%d-%m-%Y %H:%M')\n",
    "max_date = max(df['InvoiceDate'])\n",
    "df['Diff'] = max_date - df['InvoiceDate']\n",
    "rfm_df_p = df.groupby('CustomerID')['Diff'].min()\n",
    "rfm_df_p = rfm_df_p.reset_index()\n",
    "rfm_df_p.columns = ['CustomerID','Diff']\n",
    "rfm_df_p['Diff'] = rfm_df_p['Diff'].dt.days\n",
    "print(rfm_df_p)"
   ]
  },
  {
   "cell_type": "code",
   "execution_count": 11,
   "id": "b1981665",
   "metadata": {},
   "outputs": [
    {
     "data": {
      "text/html": [
       "<div>\n",
       "<style scoped>\n",
       "    .dataframe tbody tr th:only-of-type {\n",
       "        vertical-align: middle;\n",
       "    }\n",
       "\n",
       "    .dataframe tbody tr th {\n",
       "        vertical-align: top;\n",
       "    }\n",
       "\n",
       "    .dataframe thead th {\n",
       "        text-align: right;\n",
       "    }\n",
       "</style>\n",
       "<table border=\"1\" class=\"dataframe\">\n",
       "  <thead>\n",
       "    <tr style=\"text-align: right;\">\n",
       "      <th></th>\n",
       "      <th>CustomerID</th>\n",
       "      <th>Amount</th>\n",
       "      <th>Frequency</th>\n",
       "      <th>Recency</th>\n",
       "    </tr>\n",
       "  </thead>\n",
       "  <tbody>\n",
       "    <tr>\n",
       "      <th>0</th>\n",
       "      <td>12346.0</td>\n",
       "      <td>0.00</td>\n",
       "      <td>2</td>\n",
       "      <td>325</td>\n",
       "    </tr>\n",
       "    <tr>\n",
       "      <th>1</th>\n",
       "      <td>12347.0</td>\n",
       "      <td>4310.00</td>\n",
       "      <td>182</td>\n",
       "      <td>1</td>\n",
       "    </tr>\n",
       "    <tr>\n",
       "      <th>2</th>\n",
       "      <td>12348.0</td>\n",
       "      <td>1797.24</td>\n",
       "      <td>31</td>\n",
       "      <td>74</td>\n",
       "    </tr>\n",
       "    <tr>\n",
       "      <th>3</th>\n",
       "      <td>12349.0</td>\n",
       "      <td>1757.55</td>\n",
       "      <td>73</td>\n",
       "      <td>18</td>\n",
       "    </tr>\n",
       "    <tr>\n",
       "      <th>4</th>\n",
       "      <td>12350.0</td>\n",
       "      <td>334.40</td>\n",
       "      <td>17</td>\n",
       "      <td>309</td>\n",
       "    </tr>\n",
       "    <tr>\n",
       "      <th>...</th>\n",
       "      <td>...</td>\n",
       "      <td>...</td>\n",
       "      <td>...</td>\n",
       "      <td>...</td>\n",
       "    </tr>\n",
       "    <tr>\n",
       "      <th>4367</th>\n",
       "      <td>18280.0</td>\n",
       "      <td>180.60</td>\n",
       "      <td>10</td>\n",
       "      <td>277</td>\n",
       "    </tr>\n",
       "    <tr>\n",
       "      <th>4368</th>\n",
       "      <td>18281.0</td>\n",
       "      <td>80.82</td>\n",
       "      <td>7</td>\n",
       "      <td>180</td>\n",
       "    </tr>\n",
       "    <tr>\n",
       "      <th>4369</th>\n",
       "      <td>18282.0</td>\n",
       "      <td>176.60</td>\n",
       "      <td>13</td>\n",
       "      <td>7</td>\n",
       "    </tr>\n",
       "    <tr>\n",
       "      <th>4370</th>\n",
       "      <td>18283.0</td>\n",
       "      <td>2094.88</td>\n",
       "      <td>756</td>\n",
       "      <td>3</td>\n",
       "    </tr>\n",
       "    <tr>\n",
       "      <th>4371</th>\n",
       "      <td>18287.0</td>\n",
       "      <td>1837.28</td>\n",
       "      <td>70</td>\n",
       "      <td>42</td>\n",
       "    </tr>\n",
       "  </tbody>\n",
       "</table>\n",
       "<p>4372 rows × 4 columns</p>\n",
       "</div>"
      ],
      "text/plain": [
       "     CustomerID   Amount  Frequency  Recency\n",
       "0       12346.0     0.00          2      325\n",
       "1       12347.0  4310.00        182        1\n",
       "2       12348.0  1797.24         31       74\n",
       "3       12349.0  1757.55         73       18\n",
       "4       12350.0   334.40         17      309\n",
       "...         ...      ...        ...      ...\n",
       "4367    18280.0   180.60         10      277\n",
       "4368    18281.0    80.82          7      180\n",
       "4369    18282.0   176.60         13        7\n",
       "4370    18283.0  2094.88        756        3\n",
       "4371    18287.0  1837.28         70       42\n",
       "\n",
       "[4372 rows x 4 columns]"
      ]
     },
     "execution_count": 11,
     "metadata": {},
     "output_type": "execute_result"
    }
   ],
   "source": [
    "df_final = pd.merge(rfm_df_m,rfm_df_f,on='CustomerID',how='inner')\n",
    "df_final = pd.merge(df_final,rfm_df_p,on='CustomerID',how='inner')\n",
    "df_final.columns = ['CustomerID', 'Amount', 'Frequency', 'Recency']\n",
    "df_final"
   ]
  },
  {
   "cell_type": "markdown",
   "id": "b80f1f57",
   "metadata": {},
   "source": [
    "### 3- data visualization"
   ]
  },
  {
   "cell_type": "code",
   "execution_count": 12,
   "id": "7e82d17f",
   "metadata": {},
   "outputs": [],
   "source": [
    "# sns.pairplot(df)"
   ]
  },
  {
   "cell_type": "markdown",
   "id": "8b698690",
   "metadata": {},
   "source": [
    "### 4- scalling data"
   ]
  },
  {
   "cell_type": "code",
   "execution_count": 13,
   "id": "fb059896",
   "metadata": {},
   "outputs": [],
   "source": [
    "x= df_final[['Amount', 'Frequency', 'Recency']]\n",
    "y=df_final[\"CustomerID\"]"
   ]
  },
  {
   "cell_type": "code",
   "execution_count": 14,
   "id": "4aafb693",
   "metadata": {},
   "outputs": [
    {
     "data": {
      "text/html": [
       "<div>\n",
       "<style scoped>\n",
       "    .dataframe tbody tr th:only-of-type {\n",
       "        vertical-align: middle;\n",
       "    }\n",
       "\n",
       "    .dataframe tbody tr th {\n",
       "        vertical-align: top;\n",
       "    }\n",
       "\n",
       "    .dataframe thead th {\n",
       "        text-align: right;\n",
       "    }\n",
       "</style>\n",
       "<table border=\"1\" class=\"dataframe\">\n",
       "  <thead>\n",
       "    <tr style=\"text-align: right;\">\n",
       "      <th></th>\n",
       "      <th>Amount</th>\n",
       "      <th>Frequency</th>\n",
       "      <th>Recency</th>\n",
       "    </tr>\n",
       "  </thead>\n",
       "  <tbody>\n",
       "    <tr>\n",
       "      <th>0</th>\n",
       "      <td>0.015109</td>\n",
       "      <td>0.000125</td>\n",
       "      <td>0.871314</td>\n",
       "    </tr>\n",
       "    <tr>\n",
       "      <th>1</th>\n",
       "      <td>0.030297</td>\n",
       "      <td>0.022676</td>\n",
       "      <td>0.002681</td>\n",
       "    </tr>\n",
       "    <tr>\n",
       "      <th>2</th>\n",
       "      <td>0.021442</td>\n",
       "      <td>0.003758</td>\n",
       "      <td>0.198391</td>\n",
       "    </tr>\n",
       "    <tr>\n",
       "      <th>3</th>\n",
       "      <td>0.021303</td>\n",
       "      <td>0.009020</td>\n",
       "      <td>0.048257</td>\n",
       "    </tr>\n",
       "    <tr>\n",
       "      <th>4</th>\n",
       "      <td>0.016288</td>\n",
       "      <td>0.002005</td>\n",
       "      <td>0.828418</td>\n",
       "    </tr>\n",
       "    <tr>\n",
       "      <th>...</th>\n",
       "      <td>...</td>\n",
       "      <td>...</td>\n",
       "      <td>...</td>\n",
       "    </tr>\n",
       "    <tr>\n",
       "      <th>4367</th>\n",
       "      <td>0.015746</td>\n",
       "      <td>0.001128</td>\n",
       "      <td>0.742627</td>\n",
       "    </tr>\n",
       "    <tr>\n",
       "      <th>4368</th>\n",
       "      <td>0.015394</td>\n",
       "      <td>0.000752</td>\n",
       "      <td>0.482574</td>\n",
       "    </tr>\n",
       "    <tr>\n",
       "      <th>4369</th>\n",
       "      <td>0.015731</td>\n",
       "      <td>0.001503</td>\n",
       "      <td>0.018767</td>\n",
       "    </tr>\n",
       "    <tr>\n",
       "      <th>4370</th>\n",
       "      <td>0.022491</td>\n",
       "      <td>0.094588</td>\n",
       "      <td>0.008043</td>\n",
       "    </tr>\n",
       "    <tr>\n",
       "      <th>4371</th>\n",
       "      <td>0.021584</td>\n",
       "      <td>0.008644</td>\n",
       "      <td>0.112601</td>\n",
       "    </tr>\n",
       "  </tbody>\n",
       "</table>\n",
       "<p>4372 rows × 3 columns</p>\n",
       "</div>"
      ],
      "text/plain": [
       "        Amount  Frequency   Recency\n",
       "0     0.015109   0.000125  0.871314\n",
       "1     0.030297   0.022676  0.002681\n",
       "2     0.021442   0.003758  0.198391\n",
       "3     0.021303   0.009020  0.048257\n",
       "4     0.016288   0.002005  0.828418\n",
       "...        ...        ...       ...\n",
       "4367  0.015746   0.001128  0.742627\n",
       "4368  0.015394   0.000752  0.482574\n",
       "4369  0.015731   0.001503  0.018767\n",
       "4370  0.022491   0.094588  0.008043\n",
       "4371  0.021584   0.008644  0.112601\n",
       "\n",
       "[4372 rows x 3 columns]"
      ]
     },
     "execution_count": 14,
     "metadata": {},
     "output_type": "execute_result"
    }
   ],
   "source": [
    "from sklearn.preprocessing import MinMaxScaler\n",
    "scl = MinMaxScaler()\n",
    "df_scaled = scl.fit_transform(x)\n",
    "df_scaled = pd.DataFrame(df_scaled)\n",
    "df_scaled.columns = ['Amount', 'Frequency', 'Recency']\n",
    "df_scaled"
   ]
  },
  {
   "cell_type": "markdown",
   "id": "db5091e8",
   "metadata": {},
   "source": [
    "### 4- apply PCA"
   ]
  },
  {
   "cell_type": "code",
   "execution_count": 15,
   "id": "fe9674b0",
   "metadata": {},
   "outputs": [
    {
     "name": "stdout",
     "output_type": "stream",
     "text": [
      "[0.97809762 0.01568386 0.00621853]\n"
     ]
    }
   ],
   "source": [
    "from sklearn.decomposition import PCA\n",
    "dim_red=PCA()\n",
    "x_pca=dim_red.fit_transform(df_scaled)\n",
    "print (dim_red.explained_variance_ratio_)"
   ]
  },
  {
   "cell_type": "code",
   "execution_count": 16,
   "id": "9ed2988d",
   "metadata": {},
   "outputs": [
    {
     "name": "stdout",
     "output_type": "stream",
     "text": [
      "[0.97809762 0.01568386]\n"
     ]
    },
    {
     "data": {
      "text/html": [
       "<div>\n",
       "<style scoped>\n",
       "    .dataframe tbody tr th:only-of-type {\n",
       "        vertical-align: middle;\n",
       "    }\n",
       "\n",
       "    .dataframe tbody tr th {\n",
       "        vertical-align: top;\n",
       "    }\n",
       "\n",
       "    .dataframe thead th {\n",
       "        text-align: right;\n",
       "    }\n",
       "</style>\n",
       "<table border=\"1\" class=\"dataframe\">\n",
       "  <thead>\n",
       "    <tr style=\"text-align: right;\">\n",
       "      <th></th>\n",
       "      <th>pca0</th>\n",
       "      <th>pca1</th>\n",
       "    </tr>\n",
       "  </thead>\n",
       "  <tbody>\n",
       "    <tr>\n",
       "      <th>0</th>\n",
       "      <td>0.627348</td>\n",
       "      <td>0.003636</td>\n",
       "    </tr>\n",
       "    <tr>\n",
       "      <th>1</th>\n",
       "      <td>-0.241701</td>\n",
       "      <td>0.007555</td>\n",
       "    </tr>\n",
       "    <tr>\n",
       "      <th>2</th>\n",
       "      <td>-0.045505</td>\n",
       "      <td>-0.006895</td>\n",
       "    </tr>\n",
       "    <tr>\n",
       "      <th>3</th>\n",
       "      <td>-0.195702</td>\n",
       "      <td>-0.007234</td>\n",
       "    </tr>\n",
       "    <tr>\n",
       "      <th>4</th>\n",
       "      <td>0.584409</td>\n",
       "      <td>0.004671</td>\n",
       "    </tr>\n",
       "    <tr>\n",
       "      <th>...</th>\n",
       "      <td>...</td>\n",
       "      <td>...</td>\n",
       "    </tr>\n",
       "    <tr>\n",
       "      <th>4367</th>\n",
       "      <td>0.498676</td>\n",
       "      <td>0.001428</td>\n",
       "    </tr>\n",
       "    <tr>\n",
       "      <th>4368</th>\n",
       "      <td>0.238730</td>\n",
       "      <td>-0.005885</td>\n",
       "    </tr>\n",
       "    <tr>\n",
       "      <th>4369</th>\n",
       "      <td>-0.224932</td>\n",
       "      <td>-0.017243</td>\n",
       "    </tr>\n",
       "    <tr>\n",
       "      <th>4370</th>\n",
       "      <td>-0.237856</td>\n",
       "      <td>0.052499</td>\n",
       "    </tr>\n",
       "    <tr>\n",
       "      <th>4371</th>\n",
       "      <td>-0.131378</td>\n",
       "      <td>-0.005615</td>\n",
       "    </tr>\n",
       "  </tbody>\n",
       "</table>\n",
       "<p>4372 rows × 2 columns</p>\n",
       "</div>"
      ],
      "text/plain": [
       "          pca0      pca1\n",
       "0     0.627348  0.003636\n",
       "1    -0.241701  0.007555\n",
       "2    -0.045505 -0.006895\n",
       "3    -0.195702 -0.007234\n",
       "4     0.584409  0.004671\n",
       "...        ...       ...\n",
       "4367  0.498676  0.001428\n",
       "4368  0.238730 -0.005885\n",
       "4369 -0.224932 -0.017243\n",
       "4370 -0.237856  0.052499\n",
       "4371 -0.131378 -0.005615\n",
       "\n",
       "[4372 rows x 2 columns]"
      ]
     },
     "execution_count": 16,
     "metadata": {},
     "output_type": "execute_result"
    }
   ],
   "source": [
    "dim_red=PCA(n_components=2)\n",
    "x_pca=dim_red.fit_transform(df_scaled)\n",
    "print (dim_red.explained_variance_ratio_)\n",
    "df_final=pd.DataFrame(x_pca,columns=dim_red.get_feature_names_out())\n",
    "df_final"
   ]
  },
  {
   "cell_type": "markdown",
   "id": "ca4cd39d",
   "metadata": {},
   "source": [
    "### 5- create model"
   ]
  },
  {
   "cell_type": "code",
   "execution_count": 17,
   "id": "ad0052e4",
   "metadata": {},
   "outputs": [
    {
     "name": "stderr",
     "output_type": "stream",
     "text": [
      "C:\\Users\\elfik\\anaconda3\\envs\\my_env\\lib\\site-packages\\sklearn\\cluster\\_kmeans.py:1416: FutureWarning: The default value of `n_init` will change from 10 to 'auto' in 1.4. Set the value of `n_init` explicitly to suppress the warning\n",
      "  super()._check_params_vs_input(X, default_n_init=10)\n"
     ]
    },
    {
     "name": "stdout",
     "output_type": "stream",
     "text": [
      "1 324.3418016814512\n",
      "2 70.76203026960225\n",
      "3 36.156816444470934\n",
      "4 22.686619969415432\n",
      "5 15.938017170449342\n",
      "6 12.588328050281682\n",
      "7 9.281122388025192\n"
     ]
    },
    {
     "name": "stderr",
     "output_type": "stream",
     "text": [
      "C:\\Users\\elfik\\anaconda3\\envs\\my_env\\lib\\site-packages\\sklearn\\cluster\\_kmeans.py:1416: FutureWarning: The default value of `n_init` will change from 10 to 'auto' in 1.4. Set the value of `n_init` explicitly to suppress the warning\n",
      "  super()._check_params_vs_input(X, default_n_init=10)\n",
      "C:\\Users\\elfik\\anaconda3\\envs\\my_env\\lib\\site-packages\\sklearn\\cluster\\_kmeans.py:1416: FutureWarning: The default value of `n_init` will change from 10 to 'auto' in 1.4. Set the value of `n_init` explicitly to suppress the warning\n",
      "  super()._check_params_vs_input(X, default_n_init=10)\n",
      "C:\\Users\\elfik\\anaconda3\\envs\\my_env\\lib\\site-packages\\sklearn\\cluster\\_kmeans.py:1416: FutureWarning: The default value of `n_init` will change from 10 to 'auto' in 1.4. Set the value of `n_init` explicitly to suppress the warning\n",
      "  super()._check_params_vs_input(X, default_n_init=10)\n",
      "C:\\Users\\elfik\\anaconda3\\envs\\my_env\\lib\\site-packages\\sklearn\\cluster\\_kmeans.py:1416: FutureWarning: The default value of `n_init` will change from 10 to 'auto' in 1.4. Set the value of `n_init` explicitly to suppress the warning\n",
      "  super()._check_params_vs_input(X, default_n_init=10)\n",
      "C:\\Users\\elfik\\anaconda3\\envs\\my_env\\lib\\site-packages\\sklearn\\cluster\\_kmeans.py:1416: FutureWarning: The default value of `n_init` will change from 10 to 'auto' in 1.4. Set the value of `n_init` explicitly to suppress the warning\n",
      "  super()._check_params_vs_input(X, default_n_init=10)\n",
      "C:\\Users\\elfik\\anaconda3\\envs\\my_env\\lib\\site-packages\\sklearn\\cluster\\_kmeans.py:1416: FutureWarning: The default value of `n_init` will change from 10 to 'auto' in 1.4. Set the value of `n_init` explicitly to suppress the warning\n",
      "  super()._check_params_vs_input(X, default_n_init=10)\n",
      "C:\\Users\\elfik\\anaconda3\\envs\\my_env\\lib\\site-packages\\sklearn\\cluster\\_kmeans.py:1416: FutureWarning: The default value of `n_init` will change from 10 to 'auto' in 1.4. Set the value of `n_init` explicitly to suppress the warning\n",
      "  super()._check_params_vs_input(X, default_n_init=10)\n"
     ]
    },
    {
     "name": "stdout",
     "output_type": "stream",
     "text": [
      "8 7.3934517026486715\n",
      "9 6.017424487756339\n"
     ]
    },
    {
     "name": "stderr",
     "output_type": "stream",
     "text": [
      "C:\\Users\\elfik\\anaconda3\\envs\\my_env\\lib\\site-packages\\sklearn\\cluster\\_kmeans.py:1416: FutureWarning: The default value of `n_init` will change from 10 to 'auto' in 1.4. Set the value of `n_init` explicitly to suppress the warning\n",
      "  super()._check_params_vs_input(X, default_n_init=10)\n"
     ]
    },
    {
     "data": {
      "text/plain": [
       "[<matplotlib.lines.Line2D at 0x175135097b0>]"
      ]
     },
     "execution_count": 17,
     "metadata": {},
     "output_type": "execute_result"
    },
    {
     "data": {
      "image/png": "[encoded data removed]",
      "text/plain": [
       "<Figure size 640x480 with 1 Axes>"
      ]
     },
     "metadata": {},
     "output_type": "display_data"
    }
   ],
   "source": [
    "from sklearn.cluster import KMeans\n",
    "### elbow\n",
    "list_of_inirtias=[]\n",
    "for n in range(1,10):\n",
    "    kmeans=KMeans(n_clusters=n)\n",
    "    predictions=kmeans.fit_predict(df_final)\n",
    "    list_of_inirtias.append(kmeans.inertia_)\n",
    "    print (n,kmeans.inertia_)\n",
    "plt.plot(list_of_inirtias)"
   ]
  },
  {
   "cell_type": "code",
   "execution_count": 18,
   "id": "2f00292d",
   "metadata": {},
   "outputs": [
    {
     "name": "stderr",
     "output_type": "stream",
     "text": [
      "C:\\Users\\elfik\\anaconda3\\envs\\my_env\\lib\\site-packages\\sklearn\\cluster\\_kmeans.py:1416: FutureWarning: The default value of `n_init` will change from 10 to 'auto' in 1.4. Set the value of `n_init` explicitly to suppress the warning\n",
      "  super()._check_params_vs_input(X, default_n_init=10)\n"
     ]
    }
   ],
   "source": [
    "# kmeans =3 is the best\n",
    "kmeans=KMeans(n_clusters=3)\n",
    "predictions=kmeans.fit_predict(df_final)"
   ]
  },
  {
   "cell_type": "code",
   "execution_count": 19,
   "id": "7dd5928b",
   "metadata": {},
   "outputs": [],
   "source": [
    "original_data_before_pca= dim_red.inverse_transform(df_final)\n",
    "original_data_before_scalled=scl.inverse_transform(original_data_before_pca)\n",
    "df_final=pd.DataFrame(original_data_before_scalled)\n",
    "df_final.columns=['Amount', 'Frequency', 'Recency']\n",
    "df_final['ClusterID']=predictions\n",
    "df_final['CustomerID']=y"
   ]
  },
  {
   "cell_type": "code",
   "execution_count": 20,
   "id": "2b8c2448",
   "metadata": {},
   "outputs": [
    {
     "data": {
      "text/html": [
       "<div>\n",
       "<style scoped>\n",
       "    .dataframe tbody tr th:only-of-type {\n",
       "        vertical-align: middle;\n",
       "    }\n",
       "\n",
       "    .dataframe tbody tr th {\n",
       "        vertical-align: top;\n",
       "    }\n",
       "\n",
       "    .dataframe thead th {\n",
       "        text-align: right;\n",
       "    }\n",
       "</style>\n",
       "<table border=\"1\" class=\"dataframe\">\n",
       "  <thead>\n",
       "    <tr style=\"text-align: right;\">\n",
       "      <th></th>\n",
       "      <th>Amount</th>\n",
       "      <th>Frequency</th>\n",
       "      <th>Recency</th>\n",
       "      <th>ClusterID</th>\n",
       "      <th>CustomerID</th>\n",
       "    </tr>\n",
       "  </thead>\n",
       "  <tbody>\n",
       "    <tr>\n",
       "      <th>0</th>\n",
       "      <td>67.256575</td>\n",
       "      <td>0.074360</td>\n",
       "      <td>324.999238</td>\n",
       "      <td>1</td>\n",
       "      <td>12346.0</td>\n",
       "    </tr>\n",
       "    <tr>\n",
       "      <th>1</th>\n",
       "      <td>4416.592551</td>\n",
       "      <td>178.948123</td>\n",
       "      <td>0.998793</td>\n",
       "      <td>0</td>\n",
       "      <td>12347.0</td>\n",
       "    </tr>\n",
       "    <tr>\n",
       "      <th>2</th>\n",
       "      <td>689.223440</td>\n",
       "      <td>62.723894</td>\n",
       "      <td>74.012548</td>\n",
       "      <td>0</td>\n",
       "      <td>12348.0</td>\n",
       "    </tr>\n",
       "    <tr>\n",
       "      <th>3</th>\n",
       "      <td>1235.196476</td>\n",
       "      <td>87.955632</td>\n",
       "      <td>18.005916</td>\n",
       "      <td>0</td>\n",
       "      <td>12349.0</td>\n",
       "    </tr>\n",
       "    <tr>\n",
       "      <th>4</th>\n",
       "      <td>452.509542</td>\n",
       "      <td>13.618377</td>\n",
       "      <td>308.998662</td>\n",
       "      <td>1</td>\n",
       "      <td>12350.0</td>\n",
       "    </tr>\n",
       "    <tr>\n",
       "      <th>...</th>\n",
       "      <td>...</td>\n",
       "      <td>...</td>\n",
       "      <td>...</td>\n",
       "      <td>...</td>\n",
       "      <td>...</td>\n",
       "    </tr>\n",
       "    <tr>\n",
       "      <th>4367</th>\n",
       "      <td>146.818421</td>\n",
       "      <td>10.967209</td>\n",
       "      <td>277.000383</td>\n",
       "      <td>1</td>\n",
       "      <td>18280.0</td>\n",
       "    </tr>\n",
       "    <tr>\n",
       "      <th>4368</th>\n",
       "      <td>-269.543511</td>\n",
       "      <td>17.031344</td>\n",
       "      <td>180.003968</td>\n",
       "      <td>2</td>\n",
       "      <td>18281.0</td>\n",
       "    </tr>\n",
       "    <tr>\n",
       "      <th>4369</th>\n",
       "      <td>-671.097065</td>\n",
       "      <td>37.270623</td>\n",
       "      <td>7.009600</td>\n",
       "      <td>0</td>\n",
       "      <td>18282.0</td>\n",
       "    </tr>\n",
       "    <tr>\n",
       "      <th>4370</th>\n",
       "      <td>13497.250788</td>\n",
       "      <td>429.535924</td>\n",
       "      <td>2.870868</td>\n",
       "      <td>0</td>\n",
       "      <td>18283.0</td>\n",
       "    </tr>\n",
       "    <tr>\n",
       "      <th>4371</th>\n",
       "      <td>1299.714351</td>\n",
       "      <td>85.391174</td>\n",
       "      <td>42.006088</td>\n",
       "      <td>0</td>\n",
       "      <td>18287.0</td>\n",
       "    </tr>\n",
       "  </tbody>\n",
       "</table>\n",
       "<p>4372 rows × 5 columns</p>\n",
       "</div>"
      ],
      "text/plain": [
       "            Amount   Frequency     Recency  ClusterID CustomerID\n",
       "0        67.256575    0.074360  324.999238          1    12346.0\n",
       "1      4416.592551  178.948123    0.998793          0    12347.0\n",
       "2       689.223440   62.723894   74.012548          0    12348.0\n",
       "3      1235.196476   87.955632   18.005916          0    12349.0\n",
       "4       452.509542   13.618377  308.998662          1    12350.0\n",
       "...            ...         ...         ...        ...        ...\n",
       "4367    146.818421   10.967209  277.000383          1    18280.0\n",
       "4368   -269.543511   17.031344  180.003968          2    18281.0\n",
       "4369   -671.097065   37.270623    7.009600          0    18282.0\n",
       "4370  13497.250788  429.535924    2.870868          0    18283.0\n",
       "4371   1299.714351   85.391174   42.006088          0    18287.0\n",
       "\n",
       "[4372 rows x 5 columns]"
      ]
     },
     "execution_count": 20,
     "metadata": {},
     "output_type": "execute_result"
    }
   ],
   "source": [
    "df_final"
   ]
  },
  {
   "cell_type": "markdown",
   "id": "cdccdd76",
   "metadata": {},
   "source": [
    "## Profiling clusters"
   ]
  },
  {
   "cell_type": "code",
   "execution_count": 32,
   "id": "e508880c",
   "metadata": {},
   "outputs": [
    {
     "name": "stdout",
     "output_type": "stream",
     "text": [
      "the mean amount of cluster0 = 2564.2506205728005\n",
      "the mean frequency of cluster0 = 122.50187456232254\n",
      "the mean recency of cluster0 = 30.039255955433447\n",
      "--------------------------------------------------------------\n",
      "the mean amount of cluster1 = 555.0812573865843\n",
      "the mean frequency of cluster1 = 19.10242841690641\n",
      "the mean recency of cluster1 = 294.3705389819574\n",
      "--------------------------------------------------------------\n",
      "the mean amount of cluster2 = 558.0931170382146\n",
      "the mean frequency of cluster2 = 45.058312392861374\n",
      "the mean recency of cluster2 = 151.53477007801774\n"
     ]
    }
   ],
   "source": [
    "# cluster0\n",
    "mean_amount_of_cluster0=df_final.loc[df_final[\"ClusterID\"]==0,'Amount'].mean()\n",
    "print (\"the mean amount of cluster0 =\",mean_amount_of_cluster0)\n",
    "mean_freaquency_of_cluster0=df_final.loc[df_final[\"ClusterID\"]==0,'Frequency'].mean()\n",
    "print (\"the mean frequency of cluster0 =\",mean_freaquency_of_cluster0)\n",
    "mean_recency_of_cluster0=df_final.loc[df_final[\"ClusterID\"]==0,'Recency'].mean()\n",
    "print (\"the mean recency of cluster0 =\",mean_recency_of_cluster0)\n",
    "print (\"--------------------------------------------------------------\")\n",
    "\n",
    "# cluster1\n",
    "mean_amount_of_cluster1=df_final.loc[df_final[\"ClusterID\"]==1,'Amount'].mean()\n",
    "print (\"the mean amount of cluster1 =\",mean_amount_of_cluster1)\n",
    "mean_freaquency_of_cluster1=df_final.loc[df_final[\"ClusterID\"]==1,'Frequency'].mean()\n",
    "print (\"the mean frequency of cluster1 =\",mean_freaquency_of_cluster1)\n",
    "mean_recency_of_cluster1=df_final.loc[df_final[\"ClusterID\"]==1,'Recency'].mean()\n",
    "print (\"the mean recency of cluster1 =\",mean_recency_of_cluster1)\n",
    "print (\"--------------------------------------------------------------\")\n",
    "\n",
    "# cluster2\n",
    "mean_amount_of_cluster2=df_final.loc[df_final[\"ClusterID\"]==2,'Amount'].mean()\n",
    "print (\"the mean amount of cluster2 =\",mean_amount_of_cluster2)\n",
    "mean_freaquency_of_cluster2=df_final.loc[df_final[\"ClusterID\"]==2,'Frequency'].mean()\n",
    "print (\"the mean frequency of cluster2 =\",mean_freaquency_of_cluster2)\n",
    "mean_recency_of_cluster2=df_final.loc[df_final[\"ClusterID\"]==2,'Recency'].mean()\n",
    "print (\"the mean recency of cluster2 =\",mean_recency_of_cluster2)"
   ]
  },
  {
   "cell_type": "markdown",
   "id": "5b577de2",
   "metadata": {},
   "source": [
    "## visualization"
   ]
  },
  {
   "cell_type": "code",
   "execution_count": 58,
   "id": "16fa85fa",
   "metadata": {},
   "outputs": [
    {
     "name": "stderr",
     "output_type": "stream",
     "text": [
      "C:\\Users\\elfik\\anaconda3\\envs\\my_env\\lib\\site-packages\\seaborn\\_oldcore.py:1498: FutureWarning: is_categorical_dtype is deprecated and will be removed in a future version. Use isinstance(dtype, CategoricalDtype) instead\n",
      "  if pd.api.types.is_categorical_dtype(vector):\n",
      "C:\\Users\\elfik\\anaconda3\\envs\\my_env\\lib\\site-packages\\seaborn\\_oldcore.py:1498: FutureWarning: is_categorical_dtype is deprecated and will be removed in a future version. Use isinstance(dtype, CategoricalDtype) instead\n",
      "  if pd.api.types.is_categorical_dtype(vector):\n",
      "C:\\Users\\elfik\\anaconda3\\envs\\my_env\\lib\\site-packages\\seaborn\\_oldcore.py:1498: FutureWarning: is_categorical_dtype is deprecated and will be removed in a future version. Use isinstance(dtype, CategoricalDtype) instead\n",
      "  if pd.api.types.is_categorical_dtype(vector):\n",
      "C:\\Users\\elfik\\anaconda3\\envs\\my_env\\lib\\site-packages\\seaborn\\_oldcore.py:1498: FutureWarning: is_categorical_dtype is deprecated and will be removed in a future version. Use isinstance(dtype, CategoricalDtype) instead\n",
      "  if pd.api.types.is_categorical_dtype(vector):\n",
      "C:\\Users\\elfik\\anaconda3\\envs\\my_env\\lib\\site-packages\\seaborn\\_oldcore.py:1498: FutureWarning: is_categorical_dtype is deprecated and will be removed in a future version. Use isinstance(dtype, CategoricalDtype) instead\n",
      "  if pd.api.types.is_categorical_dtype(vector):\n",
      "C:\\Users\\elfik\\anaconda3\\envs\\my_env\\lib\\site-packages\\seaborn\\_oldcore.py:1498: FutureWarning: is_categorical_dtype is deprecated and will be removed in a future version. Use isinstance(dtype, CategoricalDtype) instead\n",
      "  if pd.api.types.is_categorical_dtype(vector):\n",
      "C:\\Users\\elfik\\anaconda3\\envs\\my_env\\lib\\site-packages\\seaborn\\_oldcore.py:1498: FutureWarning: is_categorical_dtype is deprecated and will be removed in a future version. Use isinstance(dtype, CategoricalDtype) instead\n",
      "  if pd.api.types.is_categorical_dtype(vector):\n",
      "C:\\Users\\elfik\\anaconda3\\envs\\my_env\\lib\\site-packages\\seaborn\\_oldcore.py:1498: FutureWarning: is_categorical_dtype is deprecated and will be removed in a future version. Use isinstance(dtype, CategoricalDtype) instead\n",
      "  if pd.api.types.is_categorical_dtype(vector):\n",
      "C:\\Users\\elfik\\anaconda3\\envs\\my_env\\lib\\site-packages\\seaborn\\_oldcore.py:1498: FutureWarning: is_categorical_dtype is deprecated and will be removed in a future version. Use isinstance(dtype, CategoricalDtype) instead\n",
      "  if pd.api.types.is_categorical_dtype(vector):\n"
     ]
    },
    {
     "data": {
      "image/png": "[encoded data removed]",
      "text/plain": [
       "<Figure size 1500x500 with 3 Axes>"
      ]
     },
     "metadata": {},
     "output_type": "display_data"
    }
   ],
   "source": [
    "fig, axes = plt.subplots(1, 3, figsize=(15, 5))\n",
    "sns.boxplot(ax=axes[0], x='ClusterID', y='Amount', data=df_final)\n",
    "sns.boxplot(ax=axes[1], x='ClusterID', y='Frequency', data=df_final)\n",
    "sns.boxplot(ax=axes[2], x='ClusterID', y='Recency', data=df_final)\n",
    "plt.show()"
   ]
  },
  {
   "cell_type": "markdown",
   "id": "704b44ad",
   "metadata": {},
   "source": [
    "## Evaluate the model"
   ]
  },
  {
   "cell_type": "code",
   "execution_count": 61,
   "id": "aaad98ac",
   "metadata": {},
   "outputs": [
    {
     "name": "stdout",
     "output_type": "stream",
     "text": [
      "The silhouette score is: -0.21676520851287642\n"
     ]
    }
   ],
   "source": [
    "from sklearn.metrics import silhouette_score\n",
    "silhouette_avg = silhouette_score(df_final, kmeans.labels_)\n",
    "print(f\"The silhouette score is: {silhouette_avg}\")"
   ]
  },
  {
   "cell_type": "markdown",
   "id": "ab9d0c73",
   "metadata": {},
   "source": [
    "### Personalization and Recommendations"
   ]
  },
  {
   "cell_type": "code",
   "execution_count": null,
   "id": "90c08b4f",
   "metadata": {},
   "outputs": [],
   "source": [
    "the mean amount of cluster0 = 2564.2506205728005\n",
    "the mean frequency of cluster0 = 122.50187456232254\n",
    "the mean recency of cluster0 = 30.039255955433447\n",
    "--------------------------------------------------------------\n",
    "the mean amount of cluster1 = 555.0812573865843\n",
    "the mean frequency of cluster1 = 19.10242841690641\n",
    "the mean recency of cluster1 = 294.3705389819574\n",
    "--------------------------------------------------------------\n",
    "the mean amount of cluster2 = 558.0931170382146\n",
    "the mean frequency of cluster2 = 45.058312392861374\n",
    "the mean recency of cluster2 = 151.53477007801774"
   ]
  },
  {
   "cell_type": "markdown",
   "id": "ddd1db80",
   "metadata": {},
   "source": [
    "###### from my analysis :\n",
    "###### I found cluster0 is buy in large quantities or large sums of money,  their number of tracsactions is very high in short time, therefore, this group of people are good, so I must not lose them.\n",
    "\n",
    "######  I found cluster1 buy in  low quantities or low sums of money, their number of tracsactions is low in long time therefore, this group of people are bad, therefore I must set up large advertising campaigns to target them.\n",
    "\n",
    "###### I found cluster2 buy in  mid quantities or mid  sums of money, their number of tracsactions is in mid range in mid range time, this group of people are not good but not bad, therefore I must set up  advertising campaigns to target them."
   ]
  }
 ],
 "metadata": {
  "kernelspec": {
   "display_name": "Python 3 (ipykernel)",
   "language": "python",
   "name": "python3"
  },
  "language_info": {
   "codemirror_mode": {
    "name": "ipython",
    "version": 3
   },
   "file_extension": ".py",
   "mimetype": "text/x-python",
   "name": "python",
   "nbconvert_exporter": "python",
   "pygments_lexer": "ipython3",
   "version": "3.10.13"
  }
 },
 "nbformat": 4,
 "nbformat_minor": 5
}
